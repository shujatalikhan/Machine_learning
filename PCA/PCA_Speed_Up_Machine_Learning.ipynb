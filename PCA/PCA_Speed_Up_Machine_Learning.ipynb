{
  "nbformat": 4,
  "nbformat_minor": 0,
  "metadata": {
    "colab": {
      "name": "PCA_Speed_Up_Machine_Learning.ipynb",
      "provenance": [],
      "collapsed_sections": []
    },
    "kernelspec": {
      "name": "python3",
      "display_name": "Python 3"
    }
  },
  "cells": [
    {
      "cell_type": "markdown",
      "metadata": {
        "id": "g8x41pLfwGr1",
        "colab_type": "text"
      },
      "source": [
        "**PCA + Logistic Regression (MNIST)**\n"
      ]
    },
    {
      "cell_type": "code",
      "metadata": {
        "id": "U5_V0WFcwDL4",
        "colab_type": "code",
        "colab": {}
      },
      "source": [
        "from sklearn.datasets import fetch_mldata\n",
        "from sklearn.decomposition import PCA\n",
        "from sklearn.preprocessing import StandardScaler\n",
        "from sklearn import metrics\n",
        "from sklearn.model_selection import train_test_split\n",
        "import pandas as pd"
      ],
      "execution_count": 0,
      "outputs": []
    },
    {
      "cell_type": "markdown",
      "metadata": {
        "id": "9E9FfQTm0RMK",
        "colab_type": "text"
      },
      "source": [
        "**Download and Load the Data**"
      ]
    },
    {
      "cell_type": "code",
      "metadata": {
        "id": "_cihwysc0Luu",
        "colab_type": "code",
        "outputId": "da034548-4de9-4957-9e49-465ff9b14762",
        "colab": {
          "base_uri": "https://localhost:8080/",
          "height": 104
        }
      },
      "source": [
        "# You can add the parameter data_home to wherever to where you want to download your data\n",
        "mnist = fetch_mldata('MNIST original')"
      ],
      "execution_count": 0,
      "outputs": [
        {
          "output_type": "stream",
          "text": [
            "/usr/local/lib/python3.6/dist-packages/sklearn/utils/deprecation.py:85: DeprecationWarning: Function fetch_mldata is deprecated; fetch_mldata was deprecated in version 0.20 and will be removed in version 0.22. Please use fetch_openml.\n",
            "  warnings.warn(msg, category=DeprecationWarning)\n",
            "/usr/local/lib/python3.6/dist-packages/sklearn/utils/deprecation.py:85: DeprecationWarning: Function mldata_filename is deprecated; mldata_filename was deprecated in version 0.20 and will be removed in version 0.22. Please use fetch_openml.\n",
            "  warnings.warn(msg, category=DeprecationWarning)\n"
          ],
          "name": "stderr"
        }
      ]
    },
    {
      "cell_type": "code",
      "metadata": {
        "id": "Ys2wkzmP0XTA",
        "colab_type": "code",
        "outputId": "34f3bdca-45d3-4bde-d666-403aada05aeb",
        "colab": {
          "base_uri": "https://localhost:8080/",
          "height": 185
        }
      },
      "source": [
        "mnist"
      ],
      "execution_count": 0,
      "outputs": [
        {
          "output_type": "execute_result",
          "data": {
            "text/plain": [
              "{'COL_NAMES': ['label', 'data'],\n",
              " 'DESCR': 'mldata.org dataset: mnist-original',\n",
              " 'data': array([[0, 0, 0, ..., 0, 0, 0],\n",
              "        [0, 0, 0, ..., 0, 0, 0],\n",
              "        [0, 0, 0, ..., 0, 0, 0],\n",
              "        ...,\n",
              "        [0, 0, 0, ..., 0, 0, 0],\n",
              "        [0, 0, 0, ..., 0, 0, 0],\n",
              "        [0, 0, 0, ..., 0, 0, 0]], dtype=uint8),\n",
              " 'target': array([0., 0., 0., ..., 9., 9., 9.])}"
            ]
          },
          "metadata": {
            "tags": []
          },
          "execution_count": 3
        }
      ]
    },
    {
      "cell_type": "code",
      "metadata": {
        "id": "ZaggocbV0a7e",
        "colab_type": "code",
        "outputId": "e2284ecc-3b96-47c3-9c99-9532f70ec263",
        "colab": {
          "base_uri": "https://localhost:8080/",
          "height": 34
        }
      },
      "source": [
        "# These are the images\n",
        "mnist.data.shape"
      ],
      "execution_count": 0,
      "outputs": [
        {
          "output_type": "execute_result",
          "data": {
            "text/plain": [
              "(70000, 784)"
            ]
          },
          "metadata": {
            "tags": []
          },
          "execution_count": 4
        }
      ]
    },
    {
      "cell_type": "code",
      "metadata": {
        "id": "vn1NKY1b0fbY",
        "colab_type": "code",
        "outputId": "fa99ef58-3097-4d11-f550-267fc7707489",
        "colab": {
          "base_uri": "https://localhost:8080/",
          "height": 34
        }
      },
      "source": [
        "# These are the labels\n",
        "mnist.target.shape"
      ],
      "execution_count": 0,
      "outputs": [
        {
          "output_type": "execute_result",
          "data": {
            "text/plain": [
              "(70000,)"
            ]
          },
          "metadata": {
            "tags": []
          },
          "execution_count": 5
        }
      ]
    },
    {
      "cell_type": "markdown",
      "metadata": {
        "id": "fzUy8zDj0oBa",
        "colab_type": "text"
      },
      "source": [
        "### Splitting Data into Training and Test Sets"
      ]
    },
    {
      "cell_type": "code",
      "metadata": {
        "id": "uGcBR60K0j3A",
        "colab_type": "code",
        "colab": {}
      },
      "source": [
        "# test_size: what proportion of original data is used for test set\n",
        "train_img, test_img, train_lbl, test_lbl = train_test_split(\n",
        "    mnist.data, mnist.target, test_size=1/7.0, random_state=0)"
      ],
      "execution_count": 0,
      "outputs": []
    },
    {
      "cell_type": "code",
      "metadata": {
        "id": "TH-WfCm201y2",
        "colab_type": "code",
        "outputId": "e8ae6bb7-1308-4fa0-eeb0-fc7b5342def0",
        "colab": {
          "base_uri": "https://localhost:8080/",
          "height": 34
        }
      },
      "source": [
        "print(train_img.shape)"
      ],
      "execution_count": 0,
      "outputs": [
        {
          "output_type": "stream",
          "text": [
            "(60000, 784)\n"
          ],
          "name": "stdout"
        }
      ]
    },
    {
      "cell_type": "code",
      "metadata": {
        "id": "eF1qpwEH05Iu",
        "colab_type": "code",
        "outputId": "3e570117-ba33-43df-f953-f9501a5c8114",
        "colab": {
          "base_uri": "https://localhost:8080/",
          "height": 34
        }
      },
      "source": [
        "print(train_lbl.shape)"
      ],
      "execution_count": 0,
      "outputs": [
        {
          "output_type": "stream",
          "text": [
            "(60000,)\n"
          ],
          "name": "stdout"
        }
      ]
    },
    {
      "cell_type": "code",
      "metadata": {
        "id": "gOZa9KJz08Jl",
        "colab_type": "code",
        "outputId": "32eb15f3-0b51-4ff3-b3a0-721fe4a6ae42",
        "colab": {
          "base_uri": "https://localhost:8080/",
          "height": 34
        }
      },
      "source": [
        "print(test_img.shape)"
      ],
      "execution_count": 0,
      "outputs": [
        {
          "output_type": "stream",
          "text": [
            "(10000, 784)\n"
          ],
          "name": "stdout"
        }
      ]
    },
    {
      "cell_type": "code",
      "metadata": {
        "id": "7tTBlXZu1FYk",
        "colab_type": "code",
        "outputId": "607d3479-3f88-419b-8922-31fa3c36574e",
        "colab": {
          "base_uri": "https://localhost:8080/",
          "height": 34
        }
      },
      "source": [
        "print(test_lbl.shape)"
      ],
      "execution_count": 0,
      "outputs": [
        {
          "output_type": "stream",
          "text": [
            "(10000,)\n"
          ],
          "name": "stdout"
        }
      ]
    },
    {
      "cell_type": "markdown",
      "metadata": {
        "id": "rsf2dRM11Otz",
        "colab_type": "text"
      },
      "source": [
        "### Standardizing the Data\n",
        "Since PCA yields a feature subspace that maximizes the variance along the axes, it makes sense to standardize the data, especially, if it was measured on different scales.\n",
        "\n",
        "Standardization of a dataset is a common requirement for many machine learning estimators: they might behave badly if the individual feature do not more or less look like standard normally distributed data\n",
        "\n",
        "Notebook going over the importance of feature Scaling: http://scikit-learn.org/stable/auto_examples/preprocessing/plot_scaling_importance.html#sphx-glr-auto-examples-preprocessing-plot-scaling-importance-py"
      ]
    },
    {
      "cell_type": "code",
      "metadata": {
        "id": "I2mw_KC-1IW3",
        "colab_type": "code",
        "colab": {}
      },
      "source": [
        "from sklearn.preprocessing import StandardScaler\n",
        "scaler = StandardScaler()\n",
        "\n",
        "# Fit on training set only.\n",
        "scaler.fit(train_img)\n",
        "\n",
        "# Apply transform to both the training set and the test set.\n",
        "train_img = scaler.transform(train_img)\n",
        "test_img = scaler.transform(test_img)"
      ],
      "execution_count": 0,
      "outputs": []
    },
    {
      "cell_type": "markdown",
      "metadata": {
        "id": "xCwks7Cr1iXN",
        "colab_type": "text"
      },
      "source": [
        "### PCA to Speed up Machine Learning Algorithms (Logistic Regression)\n",
        "Step 0: Import and use PCA. After PCA you will apply a machine learning algorithm of your choice to the transformed data"
      ]
    },
    {
      "cell_type": "code",
      "metadata": {
        "id": "yFfEg8ra1cA6",
        "colab_type": "code",
        "colab": {}
      },
      "source": [
        "from sklearn.decomposition import PCA"
      ],
      "execution_count": 0,
      "outputs": []
    },
    {
      "cell_type": "markdown",
      "metadata": {
        "id": "VQ169nRz1tKL",
        "colab_type": "text"
      },
      "source": [
        "Make an instance of the Model"
      ]
    },
    {
      "cell_type": "code",
      "metadata": {
        "id": "oxedBBk81pgI",
        "colab_type": "code",
        "colab": {}
      },
      "source": [
        "pca = PCA(.95)"
      ],
      "execution_count": 0,
      "outputs": []
    },
    {
      "cell_type": "markdown",
      "metadata": {
        "id": "s9TQR1Ow10j8",
        "colab_type": "text"
      },
      "source": [
        "Fit PCA on training set. **Note: you are fitting PCA on the training set only**"
      ]
    },
    {
      "cell_type": "code",
      "metadata": {
        "id": "Tw-dhYJ510Su",
        "colab_type": "code",
        "outputId": "da6bf3e5-f06d-4231-d42f-27500ef4ce80",
        "colab": {
          "base_uri": "https://localhost:8080/",
          "height": 50
        }
      },
      "source": [
        "pca.fit(train_img)"
      ],
      "execution_count": 0,
      "outputs": [
        {
          "output_type": "execute_result",
          "data": {
            "text/plain": [
              "PCA(copy=True, iterated_power='auto', n_components=0.95, random_state=None,\n",
              "    svd_solver='auto', tol=0.0, whiten=False)"
            ]
          },
          "metadata": {
            "tags": []
          },
          "execution_count": 14
        }
      ]
    },
    {
      "cell_type": "code",
      "metadata": {
        "id": "chAWXp0K1w1w",
        "colab_type": "code",
        "outputId": "158bb59e-0d46-4dfe-f2c8-ea200b069e3f",
        "colab": {
          "base_uri": "https://localhost:8080/",
          "height": 34
        }
      },
      "source": [
        "pca.n_components_"
      ],
      "execution_count": 0,
      "outputs": [
        {
          "output_type": "execute_result",
          "data": {
            "text/plain": [
              "330"
            ]
          },
          "metadata": {
            "tags": []
          },
          "execution_count": 15
        }
      ]
    },
    {
      "cell_type": "markdown",
      "metadata": {
        "id": "nrq2s7JL2PEs",
        "colab_type": "text"
      },
      "source": [
        "Apply the mapping (transform) to both the training set and the test set."
      ]
    },
    {
      "cell_type": "code",
      "metadata": {
        "id": "SIzski4L2MHk",
        "colab_type": "code",
        "colab": {}
      },
      "source": [
        "train_img = pca.transform(train_img)\n",
        "test_img = pca.transform(test_img)"
      ],
      "execution_count": 0,
      "outputs": []
    },
    {
      "cell_type": "markdown",
      "metadata": {
        "id": "UDYoghCc2ZKn",
        "colab_type": "text"
      },
      "source": [
        "**Step 1**: Import the model you want to use\n",
        "\n",
        "In sklearn, all machine learning models are implemented as Python classes"
      ]
    },
    {
      "cell_type": "code",
      "metadata": {
        "id": "cr0tq_X22TbO",
        "colab_type": "code",
        "colab": {}
      },
      "source": [
        "from sklearn.linear_model import LogisticRegression"
      ],
      "execution_count": 0,
      "outputs": []
    },
    {
      "cell_type": "markdown",
      "metadata": {
        "id": "cdRgquXi2m6Q",
        "colab_type": "text"
      },
      "source": [
        "**Step 2**: Make an instance of the Model"
      ]
    },
    {
      "cell_type": "code",
      "metadata": {
        "id": "qdIBSWlG2XNe",
        "colab_type": "code",
        "colab": {}
      },
      "source": [
        "# all parameters not specified are set to their defaults\n",
        "# default solver is incredibly slow thats why we change it\n",
        "# solver = 'lbfgs'\n",
        "logisticRegr = LogisticRegression(solver = 'lbfgs')\n",
        "\n"
      ],
      "execution_count": 0,
      "outputs": []
    },
    {
      "cell_type": "markdown",
      "metadata": {
        "id": "CR8LfmEh20TE",
        "colab_type": "text"
      },
      "source": [
        "Step 3: Training the model on the data, storing the information learned from the data\n",
        "\n",
        "Model is learning the relationship between x (digits) and y (labels)"
      ]
    },
    {
      "cell_type": "code",
      "metadata": {
        "id": "v01EdjiH2wih",
        "colab_type": "code",
        "outputId": "3d913c30-0e08-4897-f163-596558e7cc4b",
        "colab": {
          "base_uri": "https://localhost:8080/",
          "height": 490
        }
      },
      "source": [
        "logisticRegr.fit(train_img, train_lbl)"
      ],
      "execution_count": 0,
      "outputs": [
        {
          "output_type": "stream",
          "text": [
            "/usr/local/lib/python3.6/dist-packages/sklearn/linear_model/logistic.py:469: FutureWarning: Default multi_class will be changed to 'auto' in 0.22. Specify the multi_class option to silence this warning.\n",
            "  \"this warning.\", FutureWarning)\n",
            "/usr/local/lib/python3.6/dist-packages/sklearn/linear_model/logistic.py:947: ConvergenceWarning: lbfgs failed to converge. Increase the number of iterations.\n",
            "  \"of iterations.\", ConvergenceWarning)\n",
            "/usr/local/lib/python3.6/dist-packages/sklearn/linear_model/logistic.py:947: ConvergenceWarning: lbfgs failed to converge. Increase the number of iterations.\n",
            "  \"of iterations.\", ConvergenceWarning)\n",
            "/usr/local/lib/python3.6/dist-packages/sklearn/linear_model/logistic.py:947: ConvergenceWarning: lbfgs failed to converge. Increase the number of iterations.\n",
            "  \"of iterations.\", ConvergenceWarning)\n",
            "/usr/local/lib/python3.6/dist-packages/sklearn/linear_model/logistic.py:947: ConvergenceWarning: lbfgs failed to converge. Increase the number of iterations.\n",
            "  \"of iterations.\", ConvergenceWarning)\n",
            "/usr/local/lib/python3.6/dist-packages/sklearn/linear_model/logistic.py:947: ConvergenceWarning: lbfgs failed to converge. Increase the number of iterations.\n",
            "  \"of iterations.\", ConvergenceWarning)\n",
            "/usr/local/lib/python3.6/dist-packages/sklearn/linear_model/logistic.py:947: ConvergenceWarning: lbfgs failed to converge. Increase the number of iterations.\n",
            "  \"of iterations.\", ConvergenceWarning)\n",
            "/usr/local/lib/python3.6/dist-packages/sklearn/linear_model/logistic.py:947: ConvergenceWarning: lbfgs failed to converge. Increase the number of iterations.\n",
            "  \"of iterations.\", ConvergenceWarning)\n",
            "/usr/local/lib/python3.6/dist-packages/sklearn/linear_model/logistic.py:947: ConvergenceWarning: lbfgs failed to converge. Increase the number of iterations.\n",
            "  \"of iterations.\", ConvergenceWarning)\n",
            "/usr/local/lib/python3.6/dist-packages/sklearn/linear_model/logistic.py:947: ConvergenceWarning: lbfgs failed to converge. Increase the number of iterations.\n",
            "  \"of iterations.\", ConvergenceWarning)\n",
            "/usr/local/lib/python3.6/dist-packages/sklearn/linear_model/logistic.py:947: ConvergenceWarning: lbfgs failed to converge. Increase the number of iterations.\n",
            "  \"of iterations.\", ConvergenceWarning)\n"
          ],
          "name": "stderr"
        },
        {
          "output_type": "execute_result",
          "data": {
            "text/plain": [
              "LogisticRegression(C=1.0, class_weight=None, dual=False, fit_intercept=True,\n",
              "                   intercept_scaling=1, l1_ratio=None, max_iter=100,\n",
              "                   multi_class='warn', n_jobs=None, penalty='l2',\n",
              "                   random_state=None, solver='lbfgs', tol=0.0001, verbose=0,\n",
              "                   warm_start=False)"
            ]
          },
          "metadata": {
            "tags": []
          },
          "execution_count": 20
        }
      ]
    },
    {
      "cell_type": "markdown",
      "metadata": {
        "id": "38JX1Lsb3Xek",
        "colab_type": "text"
      },
      "source": [
        "**Step 4**: Predict the labels of new data (new images)\n",
        "\n",
        "Uses the information the model learned during the model training process"
      ]
    },
    {
      "cell_type": "code",
      "metadata": {
        "id": "jdEn5GST3HgI",
        "colab_type": "code",
        "outputId": "549bc877-cd6d-45db-a547-7b0df02ef765",
        "colab": {
          "base_uri": "https://localhost:8080/",
          "height": 34
        }
      },
      "source": [
        "# Returns a NumPy Array\n",
        "# Predict for One Observation (image)\n",
        "logisticRegr.predict(test_img[0].reshape(1,-1))"
      ],
      "execution_count": 0,
      "outputs": [
        {
          "output_type": "execute_result",
          "data": {
            "text/plain": [
              "array([1.])"
            ]
          },
          "metadata": {
            "tags": []
          },
          "execution_count": 21
        }
      ]
    },
    {
      "cell_type": "code",
      "metadata": {
        "id": "GUPEkaEu3dLW",
        "colab_type": "code",
        "outputId": "c99996c5-a48c-4b70-90d0-f90ff2820fb8",
        "colab": {
          "base_uri": "https://localhost:8080/",
          "height": 34
        }
      },
      "source": [
        "# Predict for Multiple Observations (images) at Once\n",
        "logisticRegr.predict(test_img[0:10])"
      ],
      "execution_count": 0,
      "outputs": [
        {
          "output_type": "execute_result",
          "data": {
            "text/plain": [
              "array([1., 9., 2., 2., 7., 1., 8., 3., 3., 7.])"
            ]
          },
          "metadata": {
            "tags": []
          },
          "execution_count": 22
        }
      ]
    },
    {
      "cell_type": "markdown",
      "metadata": {
        "id": "fZ75R5e23nUj",
        "colab_type": "text"
      },
      "source": [
        "### Measuring Model Performance\n",
        "accuracy (fraction of correct predictions): correct predictions / total number of data points\n",
        "\n",
        "Basically, how the model performs on new data (test set)"
      ]
    },
    {
      "cell_type": "code",
      "metadata": {
        "id": "RE5khMkx3kOQ",
        "colab_type": "code",
        "outputId": "74f51cad-3bcf-41d5-c0e0-fcb9ccb59607",
        "colab": {
          "base_uri": "https://localhost:8080/",
          "height": 34
        }
      },
      "source": [
        "score = logisticRegr.score(test_img, test_lbl)\n",
        "print(score)"
      ],
      "execution_count": 0,
      "outputs": [
        {
          "output_type": "stream",
          "text": [
            "0.92\n"
          ],
          "name": "stdout"
        }
      ]
    },
    {
      "cell_type": "markdown",
      "metadata": {
        "id": "NttXYCw14Boo",
        "colab_type": "text"
      },
      "source": [
        "### Number of Components, Variance, Time Table"
      ]
    },
    {
      "cell_type": "code",
      "metadata": {
        "id": "AZ66U7_X37rG",
        "colab_type": "code",
        "outputId": "730577e6-5914-4a04-85e1-e606b22a0764",
        "colab": {
          "base_uri": "https://localhost:8080/",
          "height": 195
        }
      },
      "source": [
        "pd.DataFrame(data = [[1.00, 784, 48.94, .9158],\n",
        "                     [.99, 541, 34.69, .9169],\n",
        "                     [.95, 330, 13.89, .92],\n",
        "                     [.90, 236, 10.56, .9168],\n",
        "                     [.85, 184, 8.85, .9156]], \n",
        "             columns = ['Variance Retained',\n",
        "                      'Number of Components', \n",
        "                      'Time (seconds)',\n",
        "                      'Accuracy'])"
      ],
      "execution_count": 0,
      "outputs": [
        {
          "output_type": "execute_result",
          "data": {
            "text/html": [
              "<div>\n",
              "<style scoped>\n",
              "    .dataframe tbody tr th:only-of-type {\n",
              "        vertical-align: middle;\n",
              "    }\n",
              "\n",
              "    .dataframe tbody tr th {\n",
              "        vertical-align: top;\n",
              "    }\n",
              "\n",
              "    .dataframe thead th {\n",
              "        text-align: right;\n",
              "    }\n",
              "</style>\n",
              "<table border=\"1\" class=\"dataframe\">\n",
              "  <thead>\n",
              "    <tr style=\"text-align: right;\">\n",
              "      <th></th>\n",
              "      <th>Variance Retained</th>\n",
              "      <th>Number of Components</th>\n",
              "      <th>Time (seconds)</th>\n",
              "      <th>Accuracy</th>\n",
              "    </tr>\n",
              "  </thead>\n",
              "  <tbody>\n",
              "    <tr>\n",
              "      <th>0</th>\n",
              "      <td>1.00</td>\n",
              "      <td>784</td>\n",
              "      <td>48.94</td>\n",
              "      <td>0.9158</td>\n",
              "    </tr>\n",
              "    <tr>\n",
              "      <th>1</th>\n",
              "      <td>0.99</td>\n",
              "      <td>541</td>\n",
              "      <td>34.69</td>\n",
              "      <td>0.9169</td>\n",
              "    </tr>\n",
              "    <tr>\n",
              "      <th>2</th>\n",
              "      <td>0.95</td>\n",
              "      <td>330</td>\n",
              "      <td>13.89</td>\n",
              "      <td>0.9200</td>\n",
              "    </tr>\n",
              "    <tr>\n",
              "      <th>3</th>\n",
              "      <td>0.90</td>\n",
              "      <td>236</td>\n",
              "      <td>10.56</td>\n",
              "      <td>0.9168</td>\n",
              "    </tr>\n",
              "    <tr>\n",
              "      <th>4</th>\n",
              "      <td>0.85</td>\n",
              "      <td>184</td>\n",
              "      <td>8.85</td>\n",
              "      <td>0.9156</td>\n",
              "    </tr>\n",
              "  </tbody>\n",
              "</table>\n",
              "</div>"
            ],
            "text/plain": [
              "   Variance Retained  Number of Components  Time (seconds)  Accuracy\n",
              "0               1.00                   784           48.94    0.9158\n",
              "1               0.99                   541           34.69    0.9169\n",
              "2               0.95                   330           13.89    0.9200\n",
              "3               0.90                   236           10.56    0.9168\n",
              "4               0.85                   184            8.85    0.9156"
            ]
          },
          "metadata": {
            "tags": []
          },
          "execution_count": 24
        }
      ]
    }
  ]
}